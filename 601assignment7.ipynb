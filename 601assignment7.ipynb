from nltk.corpus import stopwords
import docx
import string
en_stops = set(stopwords.words('english'))

def main():
     
    #txt
    
    f = open('week_8_document2.txt', 'r')
    content = f.read()
    f.close()
    
    txtList = content.split()
    txtList2 = []
    
    for i in range(0,len(txtList)-1):
        if txtList[i] not in en_stops and txtList[i] != '–':
            txtList2.append(txtList[i])
    string.punctuation = '!"#$%&\'()*+,-./:;<=>?@[\]^_`{|}~—“”'
    for i in range(0, len(txtList2)):
        txtList2[i] = txtList2[i].translate(str.maketrans('','', string.punctuation))
    
    string.punctuation = '!"#$%&\'()*+-./:;<=>?@[\]^_`{|}~—“”'
    content = ",".join(txtList2)
    content = content.translate(str.maketrans('','', string.punctuation))
    print(content)
    
    #docx
    
    string.punctuation = '!"#$%&\'()*+,-./:;<=>?@[\]^_`{|}~—“”'
    doc = docx.Document('week_8_document1.docx')
    docText = []
    
    for i in doc.paragraphs:
        docText.append(i.text)
        
    docString = "".join(docText)
    docText = docString.split()
    docText2 = []
    
    for i in range(0,len(docText)-1):
        if docText[i] not in en_stops:
            docText2.append(docText[i])
    for i in range(0, len(docText2)):
        docText2[i] = docText2[i].translate(str.maketrans('','', string.punctuation))
    
    string.punctuation = '!"#$%&\'()*+-./:;<=>?@[\]^_`{|}~—“”'
    docString = ",".join(docText2)
    docString = docString.translate(str.maketrans('','', string.punctuation))
    
    file = open('assignment7.dat', 'w')
    file.write('week_8_document1.docx: ')
    file.write(docString)
    file.write('\n\n')
    file.write('week_8_document2.txt: ')
    file.write(content)
    file.close()
main()