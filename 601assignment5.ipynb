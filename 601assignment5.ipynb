import random
import matplotlib.pyplot as plt
import matplotlib.dates as md
import pandas as pd
import seaborn


# part 1
def part1():
    df = pd.read_csv("2-1through2-12.csv", index_col=False,skiprows=1,skipfooter=0,engine='python',header=None)
    df.columns = ["VD", "time", "Value"]
    df["time"]=pd.to_datetime(df["time"].astype(str),format="%Y%m%d%H%M%S")
    df2 = df.resample('H', on='time').Value.sum()
    df2 = df2.to_frame().reset_index()

    # 12*24 bars
    ax = seaborn.barplot(x='time', y = 'Value', data = df2)
    ax.set(xlabel = 'Time', ylabel = 'Value in MW')
    freq = 24
    xtix = ax.get_xticks()
    ax.set_xticks(xtix[::freq])
    plt.xticks(fontsize=10, rotation=90)
    plt.show()
        
    df3 = df2.groupby([df['time'].dt.day, df['time'].dt.hour]).mean()
    l = list(range(1,25))
    df3.insert(0, 'time', l)
    
    # 24 bars
    ax = seaborn.barplot(x = 'time', y = 'Value', data = df3)
    ax.set(xlabel='Hour', ylabel='Value in MW')
    plt.show()
part1()

# part 2    
def unfairRoll(die, repeat):
    count = 1
    results = []
    for i in range(0, int(repeat)):
        rand = random.randint(1,100)/100
        for i in range(0, len(die)):
            if rand < die[i]:
                #print("The die returns:", count)
                results.append(count)
                break;
            else:
                count+=1
        count=1
    return results

def fairRoll(die2, repeat):
    count = 1
    results = []
    for i in range(0, int(repeat)):
        rand = random.randint(1,100)/100
        for i in range(0, len(die2)):
            if rand < die2[i]:
                #print("The die returns:", count)
                results.append(count)
                break;
            else:
                count+=1
        count=1
    return results

def part2():
    die = [.15,.3,.45,.6,.75,1]
    die2 = [1/6,2/6,3/6,4/6,5/6,1]
    repeat = input("How many times would you like to roll? ")
    results = unfairRoll(die, repeat)
    results2 = fairRoll(die2, repeat)
    df = pd.DataFrame(results)
    df2 = pd.DataFrame(results2)
    df.plot.hist();
    df2.plot.hist();
part2()