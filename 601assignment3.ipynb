import random
import datetime
import json
import csv
def main():
    # ------------------------------------------------------------------------
    # notes/setup data
    names = ['Sophia','Liam','Olivia','Noah','Riley','Jackson','Emma','Aiden',
             'Ava','Elijah','Isabella','Grayson','Aria','Lucas','Aaliyah',
             'Oliver','Amelia','Caden','Mia','Mateo','Layla','Muhammad',
             'Zoe','Mason','Camilla','Carter','Charlotte','Jayden','Eliana',
             'Ethan','Mila','Sebastian','Everly','James','Luna','Michael',
             'Avery','Benjamin','Evelyn','Logan','Harper','Leo',
             'Lily','Luca','Ella','Alexander','Gianna','Levi','Chloe','Daniel']
    phoneNumber = random.randint(1000000000,9999999999)
    roadNames = ['Juice','School',
                 'Caravan','Kangaroo','Scooter',
                 'Carpet','King','Shampoo',
                 'Cartoon','Kitchen','Shoe']
    roadWords = ['Drive', 'Road', 'Court', 'Place', 'Street']
    address = str(int(random.randint(1,99999)))+" "+roadNames[random.randint(0,9)]+" "+roadWords[random.randint(0,4)]
    email = ["@comcast.net", "@verizon.net", "@gmail.com", "@umbc.edu", "@protonmail.com"]
    yearBorn = datetime.date(1900, 1, 1) + datetime.timedelta(days=random.randrange((datetime.date(2021, 3, 1) - datetime.date(1900, 1, 1)).days))
    noOfKids = random.randint(0,10)
    categoricalVar = ['rent', 'own']
    rentOrOwn = categoricalVar[random.randint(0,1)]
    annualIncome = str(round(random.uniform(0.0, 1000000.0),2))
    speedingTickets = random.randint(0,5)
    # ------------------------------------------------------------------------
    generateNum = int(input("How many records would you like to generate? "))
    data = []
    temp = []
    name = ""
    for i in range(0, generateNum-1):
        name = names[random.randint(0,49)] #name is used in name and email
        temp.append(name) #a name
        temp.append(random.randint(1000000000,9999999999)) #a phone number
        temp.append(str(int(random.randint(1,99999)))+" "+roadNames[random.randint(0,9)]+" "+roadWords[random.randint(0,4)]) #an address
        temp.append(name+str(random.randint(0,100))+email[random.randint(0,4)]) #an email using their name
        temp.append(str(datetime.date(1900, 1, 1) + datetime.timedelta(days=random.randrange((datetime.date(2021, 3, 1) - datetime.date(1900, 1, 1)).days)))) #year born
        temp.append(random.randint(0,10)) #no of kids
        temp.append(categoricalVar[random.randint(0,1)]) #rent or own
        temp.append(str(round(random.uniform(0.0, 1000000.0),2))) #income
        temp.append(random.randint(0,5)) #speeding tickets
        data.append(temp)
        temp = []    
    with open('pkHWFileC.csv', 'w') as Cfile:
        hwWriter = csv.writer(Cfile, delimiter=',')
        for i in data:
            hwWriter.writerow(i)
    Cfile.close()
    with open('pkHWFileJ.json', 'w') as Jfile:
        json.dump(data, Jfile)
    Jfile.close()
main()