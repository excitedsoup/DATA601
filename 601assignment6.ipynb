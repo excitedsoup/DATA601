import openpyxl
from openpyxl import load_workbook

def main():
    wb = load_workbook('week_05_homework_XLSX_openpyxl.xlsx', data_only=True)
    ws = wb['main']
    mainPatients = []
    for row in ws:
        count=1
        for cell in row:
            if(count==1):
                mainPatients.append(cell.value)
            count+=1
    mainPatients.pop(0)
    
    anotherPatientsTest = []
    anotherPatients = []
    ws2 = wb['another']
    for row in ws2:
        count=1
        temp = []
        for cell in row:
            if(count==1):
                anotherPatientsTest.append(cell.value)
            if(anotherPatientsTest[0] not in mainPatients):
                temp.append(cell.value)
        anotherPatientsTest = []
        if(len(temp)>1):
                anotherPatients.append(temp)
                
    columns = []
    for i in anotherPatients[0]:
        columns.append(i)
    columns.pop(0)

    for i, value in enumerate(columns):
        ws.cell(column=i+7, row=1, value=value)
    
    ids = []
    for i in anotherPatients:
        ids.append(i[0])
        i.pop(0)
    ids.pop(0)
    
    for i, value in enumerate(ids):
        ws.cell(column = 1, row = i + 26, value = value)
    
    for i in range(1,len(anotherPatients)):
        for j, value in enumerate(anotherPatients[i]):
            ws.cell(column = j + 7, row = i + 25, value=value)
    # count1=0
    # count2=1
    # for i in ws:
    #     count1+=1
    #     for cell in i:
    #         print('Row:', count1, 'Column:', count2)
    #         print(cell.value)
    #         count2+=1
    #     count2=1
    wb.save('finished.xlsx')
    wb.close()
main()