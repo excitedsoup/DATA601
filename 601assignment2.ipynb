import pandas as pd
def returnCount(string):
    count = len(string)
    print("There are", count, "characters")
    count = string.count(" ")
    print("There are", str(count+1), "words")
    return 0

def changeList(list1):
    list2 = []
    for i in range(len(list1)):
        try:
            list2.append(list1[i-1])
        except:
            list2.append(list1[len(list1)-1])
    return list2

def main():
    string = input("Input a string: ")
    returnCount(string)
    list1 = [3, 7, 4, 1]
    print(changeList(list1))
    
    #source: https://support.spatialkey.com/spatialkey-sample-csv-data/
    data = pd.read_csv("FL_insurance_sample.csv")
    df = pd.DataFrame(data)
    print("Rows:", len(df.axes[0]))
    print("Columns:", len(df.axes[1]))
main()
