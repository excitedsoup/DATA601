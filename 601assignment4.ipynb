import xmltodict
from bs4 import BeautifulSoup
def main():
    with open('xml_containing_html.xml','r') as fxml:
        xml_doc=fxml.read()
    doc = xmltodict.parse(xml_doc)    
    for i in doc['all_pages']:
        soup = BeautifulSoup(doc['all_pages'][i]['content'],'html.parser')
        count = 0
        for tag in soup.find_all('a', href=True):
            count += 1
        print("There are", count, "links in", i)
   
main()